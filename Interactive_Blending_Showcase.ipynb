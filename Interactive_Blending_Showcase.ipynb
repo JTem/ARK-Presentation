{
 "cells": [
  {
   "cell_type": "code",
   "execution_count": 2,
   "id": "3a68b327-cb50-4c05-bbce-75e47eb77029",
   "metadata": {
    "tags": []
   },
   "outputs": [],
   "source": [
    "%matplotlib widget\n",
    "from helper import *"
   ]
  },
  {
   "cell_type": "code",
   "execution_count": 3,
   "id": "e10c3c3b-6b1b-427e-83bb-f2cb491e0ac3",
   "metadata": {
    "tags": []
   },
   "outputs": [
    {
     "data": {
      "application/vnd.jupyter.widget-view+json": {
       "model_id": "88d304a8d59749e18fe7877527b58cd2",
       "version_major": 2,
       "version_minor": 0
      },
      "text/plain": [
       "AppLayout(children=(VBox(children=(FloatSlider(value=1.0, description='h_blend', layout=Layout(width='60%'), m…"
      ]
     },
     "execution_count": 3,
     "metadata": {},
     "output_type": "execute_result"
    }
   ],
   "source": [
    "# function to compute the quintic polynomial used to blend between two translational position profiles\n",
    "def quinticPolynomial(pos0, pos1, vel0, vel1, acc0, acc1, t, T):\n",
    "    # Calculate coefficients of the quintic polynomial\n",
    "    h = pos1 - pos0\n",
    "\n",
    "    p0 = pos0\n",
    "    p1 = vel0\n",
    "    p2 = 0.5*acc0\n",
    "    p3 = 1/(2*T**3)*(20*h - (8*vel1 + 12*vel0)*T - (3*acc0 - acc1)*T**2)\n",
    "    p4 = 1/(2*T**4)*(-30*h + (14*vel1 + 16*vel0)*T + (3*acc0 - 2*acc1)*T**2)\n",
    "    p5 = 1/(2*T**5)*(12*h - 6*(vel1 + vel0)*T + (acc1 - acc0)*T**2)\n",
    "\n",
    "    # Calculate position using the quintic polynomial\n",
    "    pos = p0 + p1*t + p2*t**2 + p3*t**3 +p4*t**4 + p5*t**5\n",
    "    return pos\n",
    "\n",
    "# Define function to get an example position command with uncontinous velocity and acceleration\n",
    "def get_pos(v0, a0, v1, a1, time):\n",
    "    y = []\n",
    "    for t in time:\n",
    "        if t <= 2:\n",
    "            y.append(v0*(t-2) + 0.5*a0*(t-2)**2)\n",
    "        else:\n",
    "            y.append(v1*(t-2.0) + 0.5*a1*(t-2.0)**2)\n",
    "    return y\n",
    "\n",
    "# Define function to calculate initial and final positions and velocities for blending\n",
    "def get_p0_p1_v0_v1_blend(v0, a0, v1, a1, h):\n",
    "    \n",
    "    p0_blend = v0*(-h*0.5) + 0.5*a0 * (-h*0.5)**2\n",
    "    p1_blend = v1*(h*0.5) + 0.5*a1*(h*0.5)**2\n",
    "    \n",
    "    v0_blend = v0 + a0 * (-0.5*h)\n",
    "    v1_blend = v1 + a1 * (0.5*h)\n",
    "  \n",
    "    return p0_blend, p1_blend, v0_blend, v1_blend\n",
    "\n",
    "# Define function to calculate blended portion of the position profile\n",
    "def get_blend(v0, a0, v1, a1, time, h):\n",
    "    blend_start = 2 - 0.5*h\n",
    "    blend_end = 2 + 0.5*h\n",
    "    \n",
    "    pos0, pos1, vel0, vel1 = get_p0_p1_v0_v1_blend(v0, a0, v1, a1, h)\n",
    "    y = []\n",
    "    x = []\n",
    "    for t in time:\n",
    "        if t >= blend_start and t <= blend_end:\n",
    "            x.append(t)\n",
    "            y.append(quinticPolynomial(pos0, pos1, vel0, vel1, a0, a1, t - blend_start, h))\n",
    "\n",
    "    return x, y\n",
    "\n",
    "# Setup the figure and axis for the plot\n",
    "plt.ioff()\n",
    "fig = plt.figure(figsize=(8, 4))\n",
    "ax = fig.add_subplot()\n",
    "ax.set_ylim([-2, 2])\n",
    "ax.set_title(\"Example of position blending\")\n",
    "\n",
    "# Initialize parameters for the sliders\n",
    "h_blend = 1\n",
    "v0 = 1\n",
    "a0 = 0\n",
    "v1 = 2\n",
    "a1 = -1\n",
    "\n",
    "# Create time points and generate initial position profiles\n",
    "time = np.linspace(0, 4, 500)\n",
    "pos = get_pos(v0, a0, v1, a1, time)\n",
    "time_blend, pos_blend = get_blend(v0, a0, v1, a1, time, h_blend)\n",
    "\n",
    "# Plot the initial position profile and the blended profile\n",
    "line, = ax.plot(time, pos, '--', label = \"unblended position profile\")\n",
    "line_blend, = ax.plot(time_blend, pos_blend, '-', label = \"blending section\")\n",
    "ax.legend()\n",
    "# Add vertical lines to indicate the blending region\n",
    "vline1 = ax.axvline(x=2-h_blend*0.5, color='grey', linestyle='--')\n",
    "vline2 = ax.axvline(x=2+h_blend*0.5, color='grey', linestyle='--')\n",
    "\n",
    "# Create sliders for interactive control\n",
    "slider_h_blend = create_slider(\"h_blend\", h_blend, 0.2, 2)\n",
    "slider_v0 = create_slider(\"v0\", v0, -2, 2)\n",
    "slider_a0 = create_slider(\"a0\", a0, -5, 5)\n",
    "slider_v1 = create_slider(\"v1\", v1, -2, 2)\n",
    "slider_a1 = create_slider(\"a1\", a1, -5, 5)\n",
    "\n",
    "# Define function to update the plot based on slider input\n",
    "def update_plot(change):\n",
    "    # update values based on slider input\n",
    "    h_blend = slider_h_blend.value\n",
    "    pos = get_pos(slider_v0.value, slider_a0.value, slider_v1.value, slider_a1.value, time)\n",
    "    time_blend, pos_blend = get_blend(slider_v0.value, slider_a0.value, slider_v1.value, slider_a1.value, time, h_blend)\n",
    "    \n",
    "    # update plot data\n",
    "    vline1.set_xdata([2-h_blend*0.5])\n",
    "    vline2.set_xdata([2+h_blend*0.5])\n",
    "    line.set_data(time, pos)\n",
    "    line_blend.set_data(time_blend, pos_blend)\n",
    "    \n",
    "    #redraw canvas\n",
    "    fig.canvas.draw()\n",
    "    fig.canvas.flush_events()\n",
    "\n",
    "# Set up observers for the sliders\n",
    "slider_h_blend.observe(update_plot, names='value')\n",
    "slider_v0.observe(update_plot, names='value')\n",
    "slider_a0.observe(update_plot, names='value')\n",
    "slider_v1.observe(update_plot, names='value')\n",
    "slider_a1.observe(update_plot, names='value')\n",
    "\n",
    "# Arrange the plot and sliders in the Jupyter notebook layout\n",
    "widgets.AppLayout(\n",
    "    center=fig.canvas,\n",
    "    footer=widgets.VBox([slider_h_blend, slider_v0, slider_a0, slider_v1, slider_a1]),\n",
    "    pane_heights=[0, 2, 1]\n",
    ")"
   ]
  },
  {
   "cell_type": "code",
   "execution_count": null,
   "id": "57a4212c-760c-405a-8240-5ed7067e4d47",
   "metadata": {},
   "outputs": [],
   "source": []
  }
 ],
 "metadata": {
  "kernelspec": {
   "display_name": "Python 3 (ipykernel)",
   "language": "python",
   "name": "python3"
  },
  "language_info": {
   "codemirror_mode": {
    "name": "ipython",
    "version": 3
   },
   "file_extension": ".py",
   "mimetype": "text/x-python",
   "name": "python",
   "nbconvert_exporter": "python",
   "pygments_lexer": "ipython3",
   "version": "3.11.9"
  }
 },
 "nbformat": 4,
 "nbformat_minor": 5
}
