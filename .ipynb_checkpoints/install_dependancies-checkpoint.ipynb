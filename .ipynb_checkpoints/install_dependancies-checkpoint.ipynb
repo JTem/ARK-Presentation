{
 "cells": [
  {
   "cell_type": "markdown",
   "id": "a9b8f399-8d5e-4512-9028-d2b7cabfd7e9",
   "metadata": {
    "editable": true,
    "slideshow": {
     "slide_type": "slide"
    },
    "tags": []
   },
   "source": [
    "## Installing Dependencies\n",
    "---\n",
    "\n",
    "Please note that JupyterLab version 4.0.8 is required to run the code + slides. \n",
    "\n",
    "To properly display the latex formulas please install Miktex and install all neccessary packages that are required to run the code:\n",
    "\n",
    "https://miktex.org/download\n",
    "\n",
    "for Python: install the required packages by executing the following code block and then restart the PC"
   ]
  },
  {
   "cell_type": "code",
   "execution_count": null,
   "id": "fb80f9ca-0fb9-437f-8009-0e58456bc771",
   "metadata": {
    "editable": true,
    "slideshow": {
     "slide_type": ""
    },
    "tags": []
   },
   "outputs": [],
   "source": [
    "!pip install neura-dual-quaternions\n",
    "!pip install numpy\n",
    "!pip install ipympl\n",
    "!pip install matplotlib\n",
    "!pip install ipywidgets\n",
    "!pip install jupyterlab_rise"
   ]
  }
 ],
 "metadata": {
  "kernelspec": {
   "display_name": "Python 3 (ipykernel)",
   "language": "python",
   "name": "python3"
  },
  "language_info": {
   "codemirror_mode": {
    "name": "ipython",
    "version": 3
   },
   "file_extension": ".py",
   "mimetype": "text/x-python",
   "name": "python",
   "nbconvert_exporter": "python",
   "pygments_lexer": "ipython3",
   "version": "3.11.9"
  }
 },
 "nbformat": 4,
 "nbformat_minor": 5
}
