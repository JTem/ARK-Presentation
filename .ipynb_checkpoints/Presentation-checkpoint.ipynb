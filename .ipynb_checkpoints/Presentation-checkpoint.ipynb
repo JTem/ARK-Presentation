{
 "cells": [
  {
   "cell_type": "code",
   "execution_count": 3,
   "id": "f901aee1-c88c-44bd-83ac-dda12cdaf5f5",
   "metadata": {
    "editable": true,
    "slideshow": {
     "slide_type": ""
    },
    "tags": []
   },
   "outputs": [],
   "source": [
    "%matplotlib widget\n",
    "from helper import *"
   ]
  },
  {
   "cell_type": "markdown",
   "id": "d691f406-25eb-4980-b203-5e4d18cccaba",
   "metadata": {
    "editable": true,
    "slideshow": {
     "slide_type": "slide"
    },
    "tags": []
   },
   "source": [
    "<div style=\"font-family: 'Helvetica Neue', Arial, sans-serif;padding: 10px; text-align: center;\">\n",
    "\n",
    "\n",
    "<div style=\"margin-top: 10px; display: flex;\">\n",
    "    <div style=\"max-width: 600px; margin-right: auto\">\n",
    "        <img src=\"./resources/neura_logo_groß.png\" alt=\"Neura Robotics Logo\" style=\"max-width: 100%; height: auto; object-fit: contain;\">\n",
    "    </div>\n",
    "    <div style=\"max-width: 500px; margin-left: auto\">\n",
    "        <img src=\"./resources/rwth_igmr_de_rgb.png\" alt=\"Neura Robotics Logo\" style=\"max-width: 100%; height: auto; object-fit: contain;\">\n",
    "    </div>\n",
    "</div>   \n",
    "<div style=\"font-family: 'Helvetica Neue', Arial, sans-serif; max-width: 1500px; margin-left: auto; margin-right: auto \">\n",
    "<h2 style = \"text-align: center\">Dual Quaternion Quintic Blends: $\\mathcal{C}^2$-Continuous, Time-Optimized Interpolation with Unit Dual Quaternion Pose Representation</h2>\n",
    "</div>\n",
    "\n",
    "<div style=\"margin-bottom: 40px;\">\n",
    "    <!-- Using the logo from the data folder and making it bigger -->\n",
    "    <img src=\"./resources/maira.png\" alt=\"Neura Robotics Logo\" style=\"max-width: 1800px; width: 100%;\">\n",
    "</div>\n",
    "\n",
    "</div>"
   ]
  },
  {
   "cell_type": "markdown",
   "id": "3140ab67-cd8f-4fea-90c9-31040f144818",
   "metadata": {
    "editable": true,
    "slideshow": {
     "slide_type": "slide"
    },
    "tags": []
   },
   "source": [
    "# Motivation\n",
    "----"
   ]
  },
  {
   "cell_type": "code",
   "execution_count": 6,
   "id": "86289d3f-cbea-4b87-aec5-ada0acf67ec4",
   "metadata": {
    "editable": true,
    "slideshow": {
     "slide_type": ""
    },
    "tags": []
   },
   "outputs": [
    {
     "data": {
      "text/html": [
       "<video width=\"1100\" height=\"700\" controls>\n",
       "  <source src=\".\\resources\\example.mov\" type=\"video/mp4\">\n",
       "</video>\n"
      ],
      "text/plain": [
       "<IPython.core.display.HTML object>"
      ]
     },
     "metadata": {},
     "output_type": "display_data"
    }
   ],
   "source": [
    "%%HTML\n",
    "<video width=\"1100\" height=\"700\" controls>\n",
    "  <source src=\".\\resources\\example.mov\" type=\"video/mp4\">\n",
    "</video>"
   ]
  },
  {
   "cell_type": "markdown",
   "id": "11d6574a-449d-4a2d-881b-19c5f676e06b",
   "metadata": {
    "editable": true,
    "slideshow": {
     "slide_type": "slide"
    },
    "tags": []
   },
   "source": [
    "# Motivation\n",
    "---\n",
    "\n",
    "- Cobot solutions need to be intuitive, easy to use, and easy to program by non-expert users\n",
    "- **Hand Guiding Mode** preferred to teach complex motion tasks\n",
    "- **long/short path orientation interpolation** is an unkown concept for most people\n",
    "- **Dual Quaternions pose representation** provide solutions to these problems"
   ]
  },
  {
   "cell_type": "markdown",
   "id": "01d21992-51c9-4e65-8ff9-59b09534b92b",
   "metadata": {
    "editable": true,
    "slideshow": {
     "slide_type": "slide"
    },
    "tags": []
   },
   "source": [
    "# State of the Art\n",
    "---"
   ]
  },
  {
   "cell_type": "markdown",
   "id": "c690e868-99b5-49b1-be61-a6755ee0f2c5",
   "metadata": {
    "editable": true,
    "slideshow": {
     "slide_type": ""
    },
    "tags": []
   },
   "source": [
    "<table style=\"border-collapse: collapse; width: 80%; margin: 0 auto; font-size: 24px;\">\n",
    "    <thead>\n",
    "      <tr>\n",
    "        <th style=\" width: 400px; border: 1px solid #d3d3d3; padding: 8px; text-align: center;\">Requirements</th>\n",
    "        <th style=\"border: 1px solid #d3d3d3; padding: 8px; text-align: center;\">DLB [1]</th>\n",
    "        <th style=\"border: 1px solid #d3d3d3; padding: 8px; text-align: center;\">ScLERP [2]</th>\n",
    "        <th style=\"border: 1px solid #d3d3d3; padding: 8px; text-align: center;\">SEP(LERP) [1]</th>\n",
    "        <th style=\"border: 1px solid #d3d3d3; padding: 8px; text-align: center;\">Bézier [3]</th>\n",
    "        <th style=\"border: 1px solid #d3d3d3; padding: 8px; text-align: center;\">SCB [4]</th>\n",
    "      </tr>\n",
    "    </thead>\n",
    "    <tbody>\n",
    "      <tr>\n",
    "        <td style=\"border: 1px solid #d3d3d3; padding: 8px; text-align: center;\">decoupled interpolation</td>\n",
    "        <td style=\"border: 1px solid #d3d3d3; padding: 8px; text-align: center;\">no</td>\n",
    "        <td style=\"border: 1px solid #d3d3d3; padding: 8px; text-align: center;\">no</td>\n",
    "        <td style=\"border: 1px solid #d3d3d3; padding: 8px; text-align: center;\">yes</td>\n",
    "        <td style=\"border: 1px solid #d3d3d3; padding: 8px; text-align: center;\">yes</td>\n",
    "        <td style=\"border: 1px solid #d3d3d3; padding: 8px; text-align: center;\">-</td>\n",
    "      </tr>\n",
    "      <tr>\n",
    "        <td style=\"border: 1px solid #d3d3d3; padding: 8px; text-align: center;\">multi-point interpolation</td>\n",
    "        <td style=\"border: 1px solid #d3d3d3; padding: 8px; text-align: center;\">no</td>\n",
    "        <td style=\"border: 1px solid #d3d3d3; padding: 8px; text-align: center;\">no</td>\n",
    "        <td style=\"border: 1px solid #d3d3d3; padding: 8px; text-align: center;\">no</td>\n",
    "        <td style=\"border: 1px solid #d3d3d3; padding: 8px; text-align: center;\">yes</td>\n",
    "        <td style=\"border: 1px solid #d3d3d3; padding: 8px; text-align: center;\">yes</td>\n",
    "      </tr>\n",
    "      <tr>\n",
    "        <td style=\"border: 1px solid #d3d3d3; padding: 8px; text-align: center;\">definable motionprofiles</td>\n",
    "        <td style=\"border: 1px solid #d3d3d3; padding: 8px; text-align: center;\">no</td>\n",
    "        <td style=\"border: 1px solid #d3d3d3; padding: 8px; text-align: center;\">no</td>\n",
    "        <td style=\"border: 1px solid #d3d3d3; padding: 8px; text-align: center;\">yes</td>\n",
    "        <td style=\"border: 1px solid #d3d3d3; padding: 8px; text-align: center;\">no</td>\n",
    "        <td style=\"border: 1px solid #d3d3d3; padding: 8px; text-align: center;\">-</td>\n",
    "      </tr>\n",
    "      <tr>\n",
    "        <td style=\"border: 1px solid #d3d3d3; padding: 8px; text-align: center;\">constant velocity</td>\n",
    "        <td style=\"border: 1px solid #d3d3d3; padding: 8px; text-align: center;\">no</td>\n",
    "        <td style=\"border: 1px solid #d3d3d3; padding: 8px; text-align: center;\">yes</td>\n",
    "        <td style=\"border: 1px solid #d3d3d3; padding: 8px; text-align: center;\">yes</td>\n",
    "        <td style=\"border: 1px solid #d3d3d3; padding: 8px; text-align: center;\">yes</td>\n",
    "        <td style=\"border: 1px solid #d3d3d3; padding: 8px; text-align: center;\">yes</td>\n",
    "      </tr>\n",
    "      <tr>\n",
    "        <td style=\"border: 1px solid #d3d3d3; padding: 8px; text-align: center;\"> $\\mathcal{C}^2$-Continuous</td>\n",
    "        <td style=\"border: 1px solid #d3d3d3; padding: 8px; text-align: center;\">no</td>\n",
    "        <td style=\"border: 1px solid #d3d3d3; padding: 8px; text-align: center;\">no</td>\n",
    "        <td style=\"border: 1px solid #d3d3d3; padding: 8px; text-align: center;\">no</td>\n",
    "        <td style=\"border: 1px solid #d3d3d3; padding: 8px; text-align: center;\">no</td>\n",
    "        <td style=\"border: 1px solid #d3d3d3; padding: 8px; text-align: center;\">yes</td>\n",
    "      </tr>\n",
    "      <tr>\n",
    "        <td style=\"border: 1px solid #d3d3d3; padding: 8px; text-align: center;\">translation interpolation</td>\n",
    "        <td style=\"border: 1px solid #d3d3d3; padding: 8px; text-align: center;\">yes</td>\n",
    "        <td style=\"border: 1px solid #d3d3d3; padding: 8px; text-align: center;\">yes</td>\n",
    "        <td style=\"border: 1px solid #d3d3d3; padding: 8px; text-align: center;\">yes</td>\n",
    "        <td style=\"border: 1px solid #d3d3d3; padding: 8px; text-align: center;\">yes</td>\n",
    "        <td style=\"border: 1px solid #d3d3d3; padding: 8px; text-align: center;\">no</td>\n",
    "      </tr>\n",
    "      <tr>\n",
    "        <td style=\"border: 1px solid #d3d3d3; padding: 8px; text-align: center;\">orientation interpolation</td>\n",
    "        <td style=\"border: 1px solid #d3d3d3; padding: 8px; text-align: center;\">yes</td>\n",
    "        <td style=\"border: 1px solid #d3d3d3; padding: 8px; text-align: center;\">yes</td>\n",
    "        <td style=\"border: 1px solid #d3d3d3; padding: 8px; text-align: center;\">yes</td>\n",
    "        <td style=\"border: 1px solid #d3d3d3; padding: 8px; text-align: center;\">yes</td>\n",
    "        <td style=\"border: 1px solid #d3d3d3; padding: 8px; text-align: center;\">yes</td>\n",
    "      </tr>\n",
    "    </tbody>\n",
    "  </table>\n",
    "  \n",
    "<p style=\"text-align: center;\"><strong>Table 1</strong>: Comparison of existing interpolation methods.</p>"
   ]
  },
  {
   "cell_type": "markdown",
   "id": "79bc880b-d2bc-4df5-9266-853be40fd87a",
   "metadata": {
    "editable": true,
    "slideshow": {
     "slide_type": "slide"
    },
    "tags": []
   },
   "source": [
    "# Dual Quaternions\n",
    "---\n",
    "Three-dimensional rigid transformations are usually represented by homogeneous transformation matrices $T \\in \\mathcal{SE}(3)$. The *Special Euclidean Group* $\\mathcal{SE}(3)$ is given by the semi-direct product of rotation matrices and translation vectors:\n",
    "\n",
    "$$\n",
    "\\mathcal{SE}(3) = \\mathcal{SO}(3) \\ltimes \\mathbb{R}^{3}\n",
    "$$\n",
    "\n",
    "The unit *Dual Quaternion Space* is then given by the semi-direct product of $\\mathcal{S}^3$ and $\\mathbb{R}^{3}$: \n",
    "\n",
    "$$\n",
    "\\mathbb{H} = \\mathcal{S}^3 \\ltimes \\mathbb{R}^{3}\n",
    "$$\n",
    "\n",
    "With the space of unit quaternions $\\mathcal{S}^3$ and the translation vectors $\\mathbb{R}^{3}$."
   ]
  },
  {
   "cell_type": "markdown",
   "id": "5567007f-bda6-405e-b779-f9fcd935aadd",
   "metadata": {
    "editable": true,
    "slideshow": {
     "slide_type": "slide"
    },
    "tags": []
   },
   "source": [
    "# Dual Quaternions\n",
    "---\n",
    "A unit dual quaternion $\\underline{\\xi} \\in \\mathbb{H}$ can be written as\n",
    "\n",
    "$$\n",
    "\\underline{\\xi} = \\hat{r} + \\epsilon \\frac{1}{2}\\bar{t} \\otimes \\hat{r}\n",
    "$$\n",
    "\n",
    "where:\n",
    "- unit quaternion $\\hat{r} \\in \\mathcal{S}^3$ representing orientation\n",
    "- pure quaternion $\\bar{t} \\in \\mathbb{R}^{3}$ representing translation\n",
    "- dual unit $\\epsilon$, with $\\epsilon^2 = 0$ and  $\\epsilon \\neq 0$."
   ]
  },
  {
   "cell_type": "code",
   "execution_count": 12,
   "id": "7ff38a2f-6606-491a-983d-4b112f7376ff",
   "metadata": {
    "editable": true,
    "slideshow": {
     "slide_type": "slide"
    },
    "tags": []
   },
   "outputs": [
    {
     "name": "stdout",
     "output_type": "stream",
     "text": [
      "DualQuaternion(Real: Quaternion(0.707, 0.707, 0.000, 0.000), Dual: Quaternion(-0.354, 0.354, 1.237, -0.177))\n"
     ]
    }
   ],
   "source": [
    "r = Quaternion(0.7071, 0.7071, 0, 0)\n",
    "t = Quaternion(0, 1, 2, 1.5)\n",
    "\n",
    "dual_quaternion = DualQuaternion(r, 0.5*t*r)\n",
    "print(dual_quaternion)"
   ]
  },
  {
   "cell_type": "markdown",
   "id": "ef4d591e-ed38-43df-92e3-e93a81decdaa",
   "metadata": {
    "editable": true,
    "slideshow": {
     "slide_type": "slide"
    },
    "tags": []
   },
   "source": [
    "# Dual Quaternions: Advantages\n",
    "---\n",
    "\n",
    "Dual Quaternions inherit benefitial properties from the quaternions. \n",
    "\n",
    "These properties include:\n",
    "- The **Double Cover Property** (or *Antipodal Property*)\n",
    "- The **Singularity Free Representation**\n",
    "- The **High Efficiency** in representing transformations"
   ]
  },
  {
   "cell_type": "code",
   "execution_count": 14,
   "id": "525cc2bc-01da-41f7-a65f-d9b40d7c2203",
   "metadata": {
    "editable": true,
    "slideshow": {
     "slide_type": ""
    },
    "tags": []
   },
   "outputs": [
    {
     "ename": "NameError",
     "evalue": "name 'create_slider' is not defined",
     "output_type": "error",
     "traceback": [
      "\u001b[1;31m---------------------------------------------------------------------------\u001b[0m",
      "\u001b[1;31mNameError\u001b[0m                                 Traceback (most recent call last)",
      "Cell \u001b[1;32mIn[14], line 8\u001b[0m\n\u001b[0;32m      4\u001b[0m q_target_antipodal \u001b[38;5;241m=\u001b[39m \u001b[38;5;241m-\u001b[39m\u001b[38;5;241m1.0\u001b[39m\u001b[38;5;241m*\u001b[39mq_target\n\u001b[0;32m      6\u001b[0m fig, ax \u001b[38;5;241m=\u001b[39m create_3d_plot(q_target)\n\u001b[1;32m----> 8\u001b[0m s_slider \u001b[38;5;241m=\u001b[39m create_slider(\u001b[38;5;124m\"\u001b[39m\u001b[38;5;124ms\u001b[39m\u001b[38;5;124m\"\u001b[39m, \u001b[38;5;241m0\u001b[39m, \u001b[38;5;241m0\u001b[39m, \u001b[38;5;241m1\u001b[39m)\n\u001b[0;32m      9\u001b[0m x_axis1, y_axis1, z_axis1 \u001b[38;5;241m=\u001b[39m draw_frame(ax, [\u001b[38;5;241m0\u001b[39m,\u001b[38;5;241m0\u001b[39m,\u001b[38;5;241m0\u001b[39m], q_start\u001b[38;5;241m.\u001b[39masRotationMatrix())\n\u001b[0;32m     10\u001b[0m x_axis2, y_axis2, z_axis2 \u001b[38;5;241m=\u001b[39m draw_frame(ax, [\u001b[38;5;241m0\u001b[39m,\u001b[38;5;241m0\u001b[39m,\u001b[38;5;241m0\u001b[39m], q_start\u001b[38;5;241m.\u001b[39masRotationMatrix())\n",
      "\u001b[1;31mNameError\u001b[0m: name 'create_slider' is not defined"
     ]
    }
   ],
   "source": [
    "#Example: Antipodal Property\n",
    "q_start = Quaternion(1,0,0,0)\n",
    "q_target = Quaternion(.900, 0.150, 0.000, 0.15).normalize()\n",
    "q_target_antipodal = -1.0*q_target\n",
    "\n",
    "fig, ax = create_3d_plot(q_target)\n",
    "\n",
    "s_slider = create_slider(\"s\", 0, 0, 1)\n",
    "x_axis1, y_axis1, z_axis1 = draw_frame(ax, [0,0,0], q_start.asRotationMatrix())\n",
    "x_axis2, y_axis2, z_axis2 = draw_frame(ax, [0,0,0], q_start.asRotationMatrix())\n",
    "\n",
    "def update_plot(change):\n",
    "    global x_axis1, y_axis1, z_axis1\n",
    "    global x_axis2, y_axis2, z_axis2\n",
    "    \n",
    "    x_axis1.remove()\n",
    "    y_axis1.remove()\n",
    "    z_axis1.remove()\n",
    "\n",
    "    x_axis2.remove()\n",
    "    y_axis2.remove()\n",
    "    z_axis2.remove()\n",
    "    \n",
    "    q_interpolated1 = Quaternion.slerp(q_start, q_target, s_slider.value)    \n",
    "    q_interpolated2 = Quaternion.slerp(q_start, q_target_antipodal, s_slider.value)  \n",
    "    \n",
    "    x_axis1, y_axis1, z_axis1 = draw_frame(ax, [0,0,0], q_interpolated1.asRotationMatrix())\n",
    "    x_axis2, y_axis2, z_axis2 = draw_frame(ax, [0,0,0], q_interpolated2.asRotationMatrix())\n",
    "\n",
    "    fig.canvas.draw()\n",
    "    fig.canvas.flush_events()\n",
    "\n",
    "    \n",
    "s_slider.observe(update_plot, names = 'value')\n",
    "\n",
    "widgets.AppLayout(\n",
    "    center=fig.canvas,\n",
    "    footer=widgets.VBox([s_slider]),\n",
    "    pane_heights=[0, 3, 1]\n",
    ")"
   ]
  },
  {
   "cell_type": "markdown",
   "id": "b2deb727-eb00-4fea-bc9f-304c17fca899",
   "metadata": {
    "editable": true,
    "slideshow": {
     "slide_type": ""
    },
    "tags": []
   },
   "source": [
    "# Dual Quaternion Quintic Blends (DQQB) algorithm\n",
    "---\n",
    "\n",
    "- can handle Linear and Arc Motion segments, and a Combination of both\n",
    "- Segments are defined via UDQ poses\n",
    "- Line is defined by 2 UDQ poses, Arc segment are defined by 3 UDQ poses\n",
    "- blending between segments"
   ]
  },
  {
   "cell_type": "markdown",
   "id": "aa3e18f6-fa43-48f0-a970-2dde9ebf3690",
   "metadata": {
    "editable": true,
    "slideshow": {
     "slide_type": ""
    },
    "tags": []
   },
   "source": [
    "# DQQB Structure\n",
    "- **Algorithm 1**:\n",
    "- **Algorithm 2**:"
   ]
  },
  {
   "cell_type": "code",
   "execution_count": null,
   "id": "fd5d1edb-7910-4cce-8e7d-17e5e2ec36a2",
   "metadata": {
    "editable": true,
    "slideshow": {
     "slide_type": ""
    },
    "tags": []
   },
   "outputs": [],
   "source": [
    "Algorithmus 1 (vielleicht noch etwas abstrakter) abbildung"
   ]
  },
  {
   "cell_type": "code",
   "execution_count": null,
   "id": "f4f4ebe8-a8bc-4cbd-ac7f-e91a11677277",
   "metadata": {
    "editable": true,
    "slideshow": {
     "slide_type": ""
    },
    "tags": []
   },
   "outputs": [],
   "source": [
    "Algorithmus 2 (vielleicht noch abstrakter) abbildung"
   ]
  },
  {
   "cell_type": "markdown",
   "id": "91b21c04-1c2b-4248-bed9-8cec0c82b429",
   "metadata": {
    "editable": true,
    "slideshow": {
     "slide_type": ""
    },
    "tags": []
   },
   "source": [
    "results: show dual quaternion poses, show animation and graphs"
   ]
  },
  {
   "cell_type": "code",
   "execution_count": null,
   "id": "4df0d468-8a02-4f62-8b0f-540bc172f3e9",
   "metadata": {
    "editable": true,
    "slideshow": {
     "slide_type": ""
    },
    "tags": []
   },
   "outputs": [],
   "source": [
    "%%HTML\n",
    "<video width=\"1100\" height=\"700\" controls>\n",
    "  <source src=\".\\resources\\example_1.mov\" type=\"video/mp4\">\n",
    "</video>"
   ]
  },
  {
   "cell_type": "code",
   "execution_count": null,
   "id": "b57b94b6-cd4d-48c4-b3a6-2727d2c7b76e",
   "metadata": {
    "editable": true,
    "slideshow": {
     "slide_type": ""
    },
    "tags": []
   },
   "outputs": [],
   "source": [
    "Abschied + references"
   ]
  }
 ],
 "metadata": {
  "kernelspec": {
   "display_name": "Python 3 (ipykernel)",
   "language": "python",
   "name": "python3"
  },
  "language_info": {
   "codemirror_mode": {
    "name": "ipython",
    "version": 3
   },
   "file_extension": ".py",
   "mimetype": "text/x-python",
   "name": "python",
   "nbconvert_exporter": "python",
   "pygments_lexer": "ipython3",
   "version": "3.12.4"
  }
 },
 "nbformat": 4,
 "nbformat_minor": 5
}
